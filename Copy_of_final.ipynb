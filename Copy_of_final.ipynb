{
  "nbformat": 4,
  "nbformat_minor": 5,
  "metadata": {
    "colab": {
      "name": "Copy of final.ipynb",
      "provenance": [],
      "collapsed_sections": [
        "QCFWCrpIXZOk"
      ],
      "include_colab_link": true
    },
    "language_info": {
      "name": "python"
    },
    "kernelspec": {
      "name": "python3",
      "display_name": "Python 3"
    }
  },
  "cells": [
    {
      "cell_type": "markdown",
      "metadata": {
        "id": "view-in-github",
        "colab_type": "text"
      },
      "source": [
        "<a href=\"https://colab.research.google.com/github/Zeeshan-jamal/cse445_final_assignment/blob/main/Copy_of_final.ipynb\" target=\"_parent\"><img src=\"https://colab.research.google.com/assets/colab-badge.svg\" alt=\"Open In Colab\"/></a>"
      ]
    },
    {
      "cell_type": "markdown",
      "metadata": {
        "id": "mjtyiBal8k10"
      },
      "source": [
        "# **Final Assignment on Heart Disease detection**\n",
        "\n",
        "## Name: Zeeshan Jamal\n",
        "## ID: 1731699642"
      ],
      "id": "mjtyiBal8k10"
    },
    {
      "cell_type": "code",
      "metadata": {
        "colab": {
          "base_uri": "https://localhost:8080/"
        },
        "id": "k-vEkFOR3CPM",
        "outputId": "7766ecb8-b281-4e1b-a0d6-f7322f2a4c8c"
      },
      "source": [
        "from google.colab import drive\n",
        "drive.mount('/content/drive')"
      ],
      "id": "k-vEkFOR3CPM",
      "execution_count": null,
      "outputs": [
        {
          "output_type": "stream",
          "text": [
            "Drive already mounted at /content/drive; to attempt to forcibly remount, call drive.mount(\"/content/drive\", force_remount=True).\n"
          ],
          "name": "stdout"
        }
      ]
    },
    {
      "cell_type": "markdown",
      "metadata": {
        "id": "fKdMoBh78_AL"
      },
      "source": [
        "#### Import of all the required libraries"
      ],
      "id": "fKdMoBh78_AL"
    },
    {
      "cell_type": "code",
      "metadata": {
        "id": "TgH0RsYo3d-8"
      },
      "source": [
        "import sklearn\n",
        "from sklearn import metrics\n",
        "from sklearn.datasets import make_classification\n",
        "from sklearn.metrics import roc_curve, auc, confusion_matrix, classification_report ,accuracy_score\n",
        "from sklearn.linear_model import LogisticRegression\n",
        "from sklearn.svm import SVC\n",
        "from sklearn.ensemble import RandomForestClassifier\n",
        "from sklearn.neighbors import KNeighborsClassifier\n",
        "from sklearn import tree\n",
        "from sklearn.tree import DecisionTreeClassifier\n",
        "from sklearn.model_selection import train_test_split\n",
        "from sklearn.model_selection import cross_val_score\n",
        "from sklearn.metrics import roc_auc_score\n",
        "from sklearn.metrics import accuracy_score\n",
        "from sklearn.metrics import confusion_matrix\n",
        "from sklearn.metrics import classification_report\n",
        "from matplotlib.pyplot import figure\n",
        "import matplotlib as mp\n",
        "import matplotlib.pyplot as plt\n",
        "import seaborn as sns\n",
        "import numpy as np\n",
        "import pandas as pd\n",
        "import re\n",
        "%matplotlib inline\n",
        "from sklearn.metrics import r2_score, explained_variance_score, mean_absolute_error, mean_squared_error\n",
        "from math import sqrt\n",
        "\n",
        "from warnings import simplefilter\n",
        "simplefilter(action='ignore', category=FutureWarning)\n"
      ],
      "id": "TgH0RsYo3d-8",
      "execution_count": null,
      "outputs": []
    },
    {
      "cell_type": "markdown",
      "metadata": {
        "id": "kKyRPn_76vzs"
      },
      "source": [
        "#### a)  Read the dataset using panda's dataframe.\n"
      ],
      "id": "kKyRPn_76vzs"
    },
    {
      "cell_type": "code",
      "metadata": {
        "id": "mSGuaPDB3eBy"
      },
      "source": [
        "# df = pd.read_csv('heart.csv')\n",
        "df = pd.read_csv('/content/drive/MyDrive/11th semester/cse445/final assignment/heart.csv')"
      ],
      "id": "mSGuaPDB3eBy",
      "execution_count": null,
      "outputs": []
    },
    {
      "cell_type": "markdown",
      "metadata": {
        "id": "7Ndvc95I_wmc"
      },
      "source": [
        "#### b) Find out the number of instances and the number of features (including the target class) in the dataset."
      ],
      "id": "7Ndvc95I_wmc"
    },
    {
      "cell_type": "code",
      "metadata": {
        "colab": {
          "base_uri": "https://localhost:8080/"
        },
        "id": "cSJWOhP53eEr",
        "outputId": "79b17f27-0ab5-46d0-8f32-24b2b5dfee29"
      },
      "source": [
        "df.shape"
      ],
      "id": "cSJWOhP53eEr",
      "execution_count": null,
      "outputs": [
        {
          "output_type": "execute_result",
          "data": {
            "text/plain": [
              "(303, 14)"
            ]
          },
          "metadata": {
            "tags": []
          },
          "execution_count": 75
        }
      ]
    },
    {
      "cell_type": "markdown",
      "metadata": {
        "id": "P-tza1Y2ADBk"
      },
      "source": [
        "#### c) Show the first five rows of the *dataset*"
      ],
      "id": "P-tza1Y2ADBk"
    },
    {
      "cell_type": "code",
      "metadata": {
        "colab": {
          "base_uri": "https://localhost:8080/",
          "height": 224
        },
        "id": "MSkq8okjA8XL",
        "outputId": "255965c0-d455-464c-cbcf-aa6424f3f06f"
      },
      "source": [
        "df.head()"
      ],
      "id": "MSkq8okjA8XL",
      "execution_count": null,
      "outputs": [
        {
          "output_type": "execute_result",
          "data": {
            "text/html": [
              "<div>\n",
              "<style scoped>\n",
              "    .dataframe tbody tr th:only-of-type {\n",
              "        vertical-align: middle;\n",
              "    }\n",
              "\n",
              "    .dataframe tbody tr th {\n",
              "        vertical-align: top;\n",
              "    }\n",
              "\n",
              "    .dataframe thead th {\n",
              "        text-align: right;\n",
              "    }\n",
              "</style>\n",
              "<table border=\"1\" class=\"dataframe\">\n",
              "  <thead>\n",
              "    <tr style=\"text-align: right;\">\n",
              "      <th></th>\n",
              "      <th>age</th>\n",
              "      <th>sex</th>\n",
              "      <th>cp</th>\n",
              "      <th>trestbps</th>\n",
              "      <th>chol</th>\n",
              "      <th>fbs</th>\n",
              "      <th>restecg</th>\n",
              "      <th>thalach</th>\n",
              "      <th>exang</th>\n",
              "      <th>oldpeak</th>\n",
              "      <th>slope</th>\n",
              "      <th>ca</th>\n",
              "      <th>thal</th>\n",
              "      <th>target</th>\n",
              "    </tr>\n",
              "  </thead>\n",
              "  <tbody>\n",
              "    <tr>\n",
              "      <th>0</th>\n",
              "      <td>63</td>\n",
              "      <td>1</td>\n",
              "      <td>3</td>\n",
              "      <td>145</td>\n",
              "      <td>233</td>\n",
              "      <td>1</td>\n",
              "      <td>0</td>\n",
              "      <td>150</td>\n",
              "      <td>0</td>\n",
              "      <td>2.3</td>\n",
              "      <td>0</td>\n",
              "      <td>0</td>\n",
              "      <td>1</td>\n",
              "      <td>1</td>\n",
              "    </tr>\n",
              "    <tr>\n",
              "      <th>1</th>\n",
              "      <td>37</td>\n",
              "      <td>1</td>\n",
              "      <td>2</td>\n",
              "      <td>130</td>\n",
              "      <td>250</td>\n",
              "      <td>0</td>\n",
              "      <td>1</td>\n",
              "      <td>187</td>\n",
              "      <td>0</td>\n",
              "      <td>3.5</td>\n",
              "      <td>0</td>\n",
              "      <td>0</td>\n",
              "      <td>2</td>\n",
              "      <td>1</td>\n",
              "    </tr>\n",
              "    <tr>\n",
              "      <th>2</th>\n",
              "      <td>41</td>\n",
              "      <td>0</td>\n",
              "      <td>1</td>\n",
              "      <td>130</td>\n",
              "      <td>204</td>\n",
              "      <td>0</td>\n",
              "      <td>0</td>\n",
              "      <td>172</td>\n",
              "      <td>0</td>\n",
              "      <td>1.4</td>\n",
              "      <td>2</td>\n",
              "      <td>0</td>\n",
              "      <td>2</td>\n",
              "      <td>1</td>\n",
              "    </tr>\n",
              "    <tr>\n",
              "      <th>3</th>\n",
              "      <td>56</td>\n",
              "      <td>1</td>\n",
              "      <td>1</td>\n",
              "      <td>120</td>\n",
              "      <td>236</td>\n",
              "      <td>0</td>\n",
              "      <td>1</td>\n",
              "      <td>178</td>\n",
              "      <td>0</td>\n",
              "      <td>0.8</td>\n",
              "      <td>2</td>\n",
              "      <td>0</td>\n",
              "      <td>2</td>\n",
              "      <td>1</td>\n",
              "    </tr>\n",
              "    <tr>\n",
              "      <th>4</th>\n",
              "      <td>57</td>\n",
              "      <td>0</td>\n",
              "      <td>0</td>\n",
              "      <td>120</td>\n",
              "      <td>354</td>\n",
              "      <td>0</td>\n",
              "      <td>1</td>\n",
              "      <td>163</td>\n",
              "      <td>1</td>\n",
              "      <td>0.6</td>\n",
              "      <td>2</td>\n",
              "      <td>0</td>\n",
              "      <td>2</td>\n",
              "      <td>1</td>\n",
              "    </tr>\n",
              "  </tbody>\n",
              "</table>\n",
              "</div>"
            ],
            "text/plain": [
              "   age  sex  cp  trestbps  chol  fbs  ...  exang  oldpeak  slope  ca  thal  target\n",
              "0   63    1   3       145   233    1  ...      0      2.3      0   0     1       1\n",
              "1   37    1   2       130   250    0  ...      0      3.5      0   0     2       1\n",
              "2   41    0   1       130   204    0  ...      0      1.4      2   0     2       1\n",
              "3   56    1   1       120   236    0  ...      0      0.8      2   0     2       1\n",
              "4   57    0   0       120   354    0  ...      1      0.6      2   0     2       1\n",
              "\n",
              "[5 rows x 14 columns]"
            ]
          },
          "metadata": {
            "tags": []
          },
          "execution_count": 76
        }
      ]
    },
    {
      "cell_type": "markdown",
      "metadata": {
        "id": "nw3BykdfAINO"
      },
      "source": [
        "#### d) Print the number of missing entries (i.e. the number of null values) per feature. If there exists any missing entries, replace the value with that particular feature's mean"
      ],
      "id": "nw3BykdfAINO"
    },
    {
      "cell_type": "code",
      "metadata": {
        "id": "rlYpztZFA8y7",
        "colab": {
          "base_uri": "https://localhost:8080/"
        },
        "outputId": "adf6549b-03f5-43c8-ff53-e4c093b996b9"
      },
      "source": [
        "df.isnull().sum()"
      ],
      "id": "rlYpztZFA8y7",
      "execution_count": null,
      "outputs": [
        {
          "output_type": "execute_result",
          "data": {
            "text/plain": [
              "age         0\n",
              "sex         0\n",
              "cp          0\n",
              "trestbps    0\n",
              "chol        0\n",
              "fbs         0\n",
              "restecg     0\n",
              "thalach     0\n",
              "exang       0\n",
              "oldpeak     0\n",
              "slope       0\n",
              "ca          0\n",
              "thal        0\n",
              "target      0\n",
              "dtype: int64"
            ]
          },
          "metadata": {
            "tags": []
          },
          "execution_count": 77
        }
      ]
    },
    {
      "cell_type": "code",
      "metadata": {
        "colab": {
          "base_uri": "https://localhost:8080/"
        },
        "id": "sbhEdXFXDble",
        "outputId": "12c7615d-aeaa-41a8-c449-cb158c7f20f2"
      },
      "source": [
        "df.isin(['\t?']).sum() #data which includes the '?' sign"
      ],
      "id": "sbhEdXFXDble",
      "execution_count": null,
      "outputs": [
        {
          "output_type": "execute_result",
          "data": {
            "text/plain": [
              "age         0\n",
              "sex         0\n",
              "cp          0\n",
              "trestbps    0\n",
              "chol        0\n",
              "fbs         0\n",
              "restecg     0\n",
              "thalach     0\n",
              "exang       0\n",
              "oldpeak     0\n",
              "slope       0\n",
              "ca          0\n",
              "thal        0\n",
              "target      0\n",
              "dtype: int64"
            ]
          },
          "metadata": {
            "tags": []
          },
          "execution_count": 78
        }
      ]
    },
    {
      "cell_type": "code",
      "metadata": {
        "colab": {
          "base_uri": "https://localhost:8080/"
        },
        "id": "g0iYJJTyHvGF",
        "outputId": "fe45ce1c-605d-4a7c-b528-cb048e34291f"
      },
      "source": [
        "df.isin([' ']).sum()"
      ],
      "id": "g0iYJJTyHvGF",
      "execution_count": null,
      "outputs": [
        {
          "output_type": "execute_result",
          "data": {
            "text/plain": [
              "age         0\n",
              "sex         0\n",
              "cp          0\n",
              "trestbps    0\n",
              "chol        0\n",
              "fbs         0\n",
              "restecg     0\n",
              "thalach     0\n",
              "exang       0\n",
              "oldpeak     0\n",
              "slope       0\n",
              "ca          0\n",
              "thal        0\n",
              "target      0\n",
              "dtype: int64"
            ]
          },
          "metadata": {
            "tags": []
          },
          "execution_count": 79
        }
      ]
    },
    {
      "cell_type": "markdown",
      "metadata": {
        "id": "Au9iY_XQAL2j"
      },
      "source": [
        "#### e) Print the number of unique values per feature. If the number of unique values for any feature is less than 10, print those unique feature values."
      ],
      "id": "Au9iY_XQAL2j"
    },
    {
      "cell_type": "code",
      "metadata": {
        "id": "0ZeUbwzqA9ZL",
        "colab": {
          "base_uri": "https://localhost:8080/"
        },
        "outputId": "f60a7b55-e0c9-4105-ebec-7a9a3eb39e9a"
      },
      "source": [
        "for column in df:\n",
        "  unique_vals=np.unique(df[column])\n",
        "  n_unique_vals=len(unique_vals)\n",
        "  if(n_unique_vals<10):\n",
        "    print('The number of unique values for feature {}: {} --{}'.format(column, n_unique_vals,unique_vals))\n",
        "  else:\n",
        "    print('The number of unique values for feature {}: {}'.format(column, n_unique_vals))\n"
      ],
      "id": "0ZeUbwzqA9ZL",
      "execution_count": null,
      "outputs": [
        {
          "output_type": "stream",
          "text": [
            "The number of unique values for feature age: 41\n",
            "The number of unique values for feature sex: 2 --[0 1]\n",
            "The number of unique values for feature cp: 4 --[0 1 2 3]\n",
            "The number of unique values for feature trestbps: 49\n",
            "The number of unique values for feature chol: 152\n",
            "The number of unique values for feature fbs: 2 --[0 1]\n",
            "The number of unique values for feature restecg: 3 --[0 1 2]\n",
            "The number of unique values for feature thalach: 91\n",
            "The number of unique values for feature exang: 2 --[0 1]\n",
            "The number of unique values for feature oldpeak: 40\n",
            "The number of unique values for feature slope: 3 --[0 1 2]\n",
            "The number of unique values for feature ca: 5 --[0 1 2 3 4]\n",
            "The number of unique values for feature thal: 4 --[0 1 2 3]\n",
            "The number of unique values for feature target: 2 --[0 1]\n"
          ],
          "name": "stdout"
        }
      ]
    },
    {
      "cell_type": "markdown",
      "metadata": {
        "id": "RGPSnkEUAZOD"
      },
      "source": [
        "#### f) Generate a boxplot that shows the gender-wise age distribution. Show the boxplot for target = 0 as well as target = 1. The following is the boxplot you will get"
      ],
      "id": "RGPSnkEUAZOD"
    },
    {
      "cell_type": "code",
      "metadata": {
        "id": "4AbrcHCOA-Oj",
        "colab": {
          "base_uri": "https://localhost:8080/",
          "height": 279
        },
        "outputId": "0e309c86-5644-43ff-beb1-a8e3a56be651"
      },
      "source": [
        "pal=['grey','skyblue']\n",
        "g=sns.boxplot(x='target',y='age',data=df,hue='sex',palette=pal)"
      ],
      "id": "4AbrcHCOA-Oj",
      "execution_count": null,
      "outputs": [
        {
          "output_type": "display_data",
          "data": {
            "image/png": "[encoded data removed]",
            "text/plain": [
              "<Figure size 432x288 with 1 Axes>"
            ]
          },
          "metadata": {
            "tags": [],
            "needs_background": "light"
          }
        }
      ]
    },
    {
      "cell_type": "markdown",
      "metadata": {
        "id": "VFxDPPTYAZ2t"
      },
      "source": [
        "#### g) Now, generate a boxplot that shows the chestpain-wise age distribution. Show the boxplot for target = 0 as well as target = 1"
      ],
      "id": "VFxDPPTYAZ2t"
    },
    {
      "cell_type": "code",
      "metadata": {
        "id": "Hi1prgf2A_Xr",
        "colab": {
          "base_uri": "https://localhost:8080/",
          "height": 279
        },
        "outputId": "3d85591c-8023-4316-f3ce-979a196eea60"
      },
      "source": [
        "pal=['#33FF57','#33FFBD']\n",
        "g=sns.boxplot(x='target',y='age',data=df,hue='cp',palette=pal)"
      ],
      "id": "Hi1prgf2A_Xr",
      "execution_count": null,
      "outputs": [
        {
          "output_type": "display_data",
          "data": {
            "image/png": "[encoded data removed]",
            "text/plain": [
              "<Figure size 432x288 with 1 Axes>"
            ]
          },
          "metadata": {
            "tags": [],
            "needs_background": "light"
          }
        }
      ]
    },
    {
      "cell_type": "markdown",
      "metadata": {
        "id": "WhrglWz6AaIc"
      },
      "source": [
        "#### h) Generate lmplot to show how cholestoral varies with age. Draw separate lmplots for different gender. 5 marks\n"
      ],
      "id": "WhrglWz6AaIc"
    },
    {
      "cell_type": "code",
      "metadata": {
        "id": "ooNfQJT_BAPl",
        "colab": {
          "base_uri": "https://localhost:8080/",
          "height": 369
        },
        "outputId": "a1c5999f-c938-411e-b9e2-35ef28c22c8a"
      },
      "source": [
        "g=sns.lmplot(x='age',y='chol',hue='sex',col='sex',data=df)"
      ],
      "id": "ooNfQJT_BAPl",
      "execution_count": null,
      "outputs": [
        {
          "output_type": "display_data",
          "data": {
            "image/png": "[encoded data removed]",
            "text/plain": [
              "<Figure size 720x360 with 2 Axes>"
            ]
          },
          "metadata": {
            "tags": [],
            "needs_background": "light"
          }
        }
      ]
    },
    {
      "cell_type": "markdown",
      "metadata": {
        "id": "iBKYLSfnAaAE"
      },
      "source": [
        "#### i) Generate a heatmap showing correlation between all features 3 marks"
      ],
      "id": "iBKYLSfnAaAE"
    },
    {
      "cell_type": "code",
      "metadata": {
        "id": "7c1-bFxNqbPI"
      },
      "source": [
        "X=df.drop(columns=['target'])\n",
        "X\n",
        "y=df['target']"
      ],
      "id": "7c1-bFxNqbPI",
      "execution_count": null,
      "outputs": []
    },
    {
      "cell_type": "code",
      "metadata": {
        "id": "vkPOHPnfBBEd",
        "colab": {
          "base_uri": "https://localhost:8080/",
          "height": 582
        },
        "outputId": "59f8d7bc-3d0b-4244-fe1f-476ae75c6374"
      },
      "source": [
        "\n",
        "plt.figure(figsize=(20,15))\n",
        "sns.heatmap(X.corr(),cmap='YlGnBu',annot=True)\n",
        "plt.show()"
      ],
      "id": "vkPOHPnfBBEd",
      "execution_count": null,
      "outputs": [
        {
          "output_type": "display_data",
          "data": {
            "image/png": "[encoded data removed]",
            "text/plain": [
              "<Figure size 1440x1080 with 2 Axes>"
            ]
          },
          "metadata": {
            "tags": [],
            "needs_background": "light"
          }
        }
      ]
    },
    {
      "cell_type": "markdown",
      "metadata": {
        "id": "qgQ0tzYhAaM2"
      },
      "source": [
        "#### j) Scale all the features between 0 and 1 5 marks\n"
      ],
      "id": "qgQ0tzYhAaM2"
    },
    {
      "cell_type": "code",
      "metadata": {
        "id": "06-UJnlHBBrF",
        "colab": {
          "base_uri": "https://localhost:8080/"
        },
        "outputId": "f21f45cd-7c75-4618-fa0c-8c279b6cbef3"
      },
      "source": [
        "from sklearn.preprocessing import MinMaxScaler\n",
        "scaler=MinMaxScaler()\n",
        "scaler.fit(X)\n",
        "X_scaled=scaler.transform(X)\n",
        "print(X)\n",
        "print(\"After scaling\")\n",
        "print(X_scaled)\n"
      ],
      "id": "06-UJnlHBBrF",
      "execution_count": null,
      "outputs": [
        {
          "output_type": "stream",
          "text": [
            "     age  sex  cp  trestbps  chol  ...  exang  oldpeak  slope  ca  thal\n",
            "0     63    1   3       145   233  ...      0      2.3      0   0     1\n",
            "1     37    1   2       130   250  ...      0      3.5      0   0     2\n",
            "2     41    0   1       130   204  ...      0      1.4      2   0     2\n",
            "3     56    1   1       120   236  ...      0      0.8      2   0     2\n",
            "4     57    0   0       120   354  ...      1      0.6      2   0     2\n",
            "..   ...  ...  ..       ...   ...  ...    ...      ...    ...  ..   ...\n",
            "298   57    0   0       140   241  ...      1      0.2      1   0     3\n",
            "299   45    1   3       110   264  ...      0      1.2      1   0     3\n",
            "300   68    1   0       144   193  ...      0      3.4      1   2     3\n",
            "301   57    1   0       130   131  ...      1      1.2      1   1     3\n",
            "302   57    0   1       130   236  ...      0      0.0      1   1     2\n",
            "\n",
            "[303 rows x 13 columns]\n",
            "After scaling\n",
            "[[0.70833333 1.         1.         ... 0.         0.         0.33333333]\n",
            " [0.16666667 1.         0.66666667 ... 0.         0.         0.66666667]\n",
            " [0.25       0.         0.33333333 ... 1.         0.         0.66666667]\n",
            " ...\n",
            " [0.8125     1.         0.         ... 0.5        0.5        1.        ]\n",
            " [0.58333333 1.         0.         ... 0.5        0.25       1.        ]\n",
            " [0.58333333 0.         0.33333333 ... 0.5        0.25       0.66666667]]\n"
          ],
          "name": "stdout"
        }
      ]
    },
    {
      "cell_type": "markdown",
      "metadata": {
        "id": "-XIWRDwFAaRE"
      },
      "source": [
        "#### k) You are going to predict the “target”. Use 10 fold cross-validation to predict the target. Use the classifiers ZeroR, KNN, SVM, logistic regression and Decision Tree and for each of them, report the accuracy, precision, recall, roc area and f1 score along with the standard deviation of each of them"
      ],
      "id": "-XIWRDwFAaRE"
    },
    {
      "cell_type": "markdown",
      "metadata": {
        "id": "i7zlUHhw6KYC"
      },
      "source": [
        "### Function that generates the Accuracy, precision, recall and ROC AUC area of each classifiers"
      ],
      "id": "i7zlUHhw6KYC"
    },
    {
      "cell_type": "code",
      "metadata": {
        "id": "uZQXR0Rz452Y"
      },
      "source": [
        "\n",
        "from numpy import mean, std\n",
        "from sklearn.model_selection import StratifiedKFold, cross_val_score\n",
        "cv=StratifiedKFold(n_splits=10,shuffle=True,random_state=1)\n",
        "def models(X_train,y_train,scoring,cv):\n",
        "  scoresZR = cross_val_score(DummyClassifier(strategy='most_frequent'), X_train, y_train, scoring = scoring, cv = cv, n_jobs = 1)\n",
        "  print(scoring,'  for  Zero R Model: %.3f (%.3f)' % (mean(scoresZR), std(scoresZR)))\n",
        "  scoresKNN = cross_val_score(KNeighborsClassifier(), X_train, y_train, scoring = scoring, cv = cv, n_jobs = 1)\n",
        "  print(scoring,' for KNN Model: %.3f (%.3f)' % (mean(scoresKNN), std(scoresKNN)))\n",
        "  scoresSV = cross_val_score(SVC(), X_train, y_train, scoring = scoring, cv = cv, n_jobs = 1)\n",
        "  print(scoring,' for SVM Model: %.3f (%.3f)' % (mean(scoresSV), std(scoresSV)))\n",
        "  scoresLR = cross_val_score(LogisticRegression(),X_train, y_train, scoring = scoring, cv = cv, n_jobs = 1)\n",
        "  print(scoring,' for Logistic Regression Model: %.3f (%.3f)' % (mean(scoresLR), std(scoresLR)))\n",
        "  scoresDTREE = cross_val_score(DecisionTreeClassifier(), X_train, y_train, scoring = scoring, cv = cv, n_jobs = 1)\n",
        "  print(scoring,' for Decision tree Model: %.3f (%.3f)' % (mean(scoresDTREE), std(scoresDTREE)))"
      ],
      "id": "uZQXR0Rz452Y",
      "execution_count": null,
      "outputs": []
    },
    {
      "cell_type": "markdown",
      "metadata": {
        "id": "U8l3lhvV6Bq6"
      },
      "source": [
        "### **Train and test splitting**"
      ],
      "id": "U8l3lhvV6Bq6"
    },
    {
      "cell_type": "code",
      "metadata": {
        "id": "M_yaXIkao_Cd"
      },
      "source": [
        "X_train,X_test,y_train,y_test=train_test_split(X_scaled,y,test_size=0.2,random_state=1)"
      ],
      "id": "M_yaXIkao_Cd",
      "execution_count": null,
      "outputs": []
    },
    {
      "cell_type": "markdown",
      "metadata": {
        "id": "S2Vi3ChtOZDS"
      },
      "source": [
        "###zero R\n"
      ],
      "id": "S2Vi3ChtOZDS"
    },
    {
      "cell_type": "code",
      "metadata": {
        "id": "UQXgmY3WBClF",
        "colab": {
          "base_uri": "https://localhost:8080/"
        },
        "outputId": "ec2fd07f-9993-420c-b384-606a2e725e9b"
      },
      "source": [
        "from sklearn.dummy import DummyClassifier\n",
        "zeroR=DummyClassifier(strategy='most_frequent',random_state=0)\n",
        "zeroR=zeroR.fit(X_train,y_train)\n",
        "score_zeroR=zeroR.score(X_test,y_test)\n",
        "pred_zeroR=zeroR.predict(X_test)\n",
        "classification_report_zeroR=classification_report(y_test,pred_zeroR)\n",
        "confusion_matrix_zeroR=confusion_matrix(y_test,pred_zeroR)"
      ],
      "id": "UQXgmY3WBClF",
      "execution_count": null,
      "outputs": [
        {
          "output_type": "stream",
          "text": [
            "/usr/local/lib/python3.7/dist-packages/sklearn/metrics/_classification.py:1272: UndefinedMetricWarning: Precision and F-score are ill-defined and being set to 0.0 in labels with no predicted samples. Use `zero_division` parameter to control this behavior.\n",
            "  _warn_prf(average, modifier, msg_start, len(result))\n"
          ],
          "name": "stderr"
        }
      ]
    },
    {
      "cell_type": "markdown",
      "metadata": {
        "id": "WawbeB3pvKJF"
      },
      "source": [
        "####Accuracy Score"
      ],
      "id": "WawbeB3pvKJF"
    },
    {
      "cell_type": "code",
      "metadata": {
        "colab": {
          "base_uri": "https://localhost:8080/"
        },
        "id": "oPWwEKzevESI",
        "outputId": "5789a378-222b-4406-eac9-2849c04107ad"
      },
      "source": [
        "print(\"Accuracy Score of ZeroR\",score_zeroR)"
      ],
      "id": "oPWwEKzevESI",
      "execution_count": null,
      "outputs": [
        {
          "output_type": "stream",
          "text": [
            "Accuracy Score of ZeroR 0.5081967213114754\n"
          ],
          "name": "stdout"
        }
      ]
    },
    {
      "cell_type": "markdown",
      "metadata": {
        "id": "UwP5TL-DvnId"
      },
      "source": [
        "####Confusion matrix"
      ],
      "id": "UwP5TL-DvnId"
    },
    {
      "cell_type": "code",
      "metadata": {
        "colab": {
          "base_uri": "https://localhost:8080/"
        },
        "id": "KctHJUBYvIK4",
        "outputId": "8b7383c9-23f1-42f5-d50b-287d8367045b"
      },
      "source": [
        "print(\"Confusion matrix\\n\",confusion_matrix_zeroR)"
      ],
      "id": "KctHJUBYvIK4",
      "execution_count": null,
      "outputs": [
        {
          "output_type": "stream",
          "text": [
            "Confusion matrix\n",
            " [[ 0 30]\n",
            " [ 0 31]]\n"
          ],
          "name": "stdout"
        }
      ]
    },
    {
      "cell_type": "markdown",
      "metadata": {
        "id": "k_TfcFhdvOyF"
      },
      "source": [
        "####Classification Report"
      ],
      "id": "k_TfcFhdvOyF"
    },
    {
      "cell_type": "code",
      "metadata": {
        "colab": {
          "base_uri": "https://localhost:8080/"
        },
        "id": "Bo3ueR8EvIa1",
        "outputId": "fa60b226-3e4c-4e87-a0b5-4bd34bcfebaa"
      },
      "source": [
        "print(\"Classification report\\n\",classification_report_zeroR)"
      ],
      "id": "Bo3ueR8EvIa1",
      "execution_count": null,
      "outputs": [
        {
          "output_type": "stream",
          "text": [
            "Classification report\n",
            "               precision    recall  f1-score   support\n",
            "\n",
            "           0       0.00      0.00      0.00        30\n",
            "           1       0.51      1.00      0.67        31\n",
            "\n",
            "    accuracy                           0.51        61\n",
            "   macro avg       0.25      0.50      0.34        61\n",
            "weighted avg       0.26      0.51      0.34        61\n",
            "\n"
          ],
          "name": "stdout"
        }
      ]
    },
    {
      "cell_type": "markdown",
      "metadata": {
        "id": "uap4uArPOdVp"
      },
      "source": [
        "###KNN"
      ],
      "id": "uap4uArPOdVp"
    },
    {
      "cell_type": "code",
      "metadata": {
        "id": "2mcjLjTt8k5y"
      },
      "source": [
        "knn=KNeighborsClassifier(metric='euclidean')\n",
        "knn=knn.fit(X_train,y_train)\n",
        "score_knn=knn.score(X_test,y_test)\n",
        "pred_knn=knn.predict(X_test)\n",
        "classification_report_knn=classification_report(y_test,pred_knn)\n",
        "confusion_matrix_knn=confusion_matrix(y_test,pred_knn)"
      ],
      "id": "2mcjLjTt8k5y",
      "execution_count": null,
      "outputs": []
    },
    {
      "cell_type": "markdown",
      "metadata": {
        "id": "RmKgoVtM8k6C"
      },
      "source": [
        "####Accuracy Score"
      ],
      "id": "RmKgoVtM8k6C"
    },
    {
      "cell_type": "code",
      "metadata": {
        "colab": {
          "base_uri": "https://localhost:8080/"
        },
        "id": "9g0UnY5r8k6D",
        "outputId": "3bd5524a-4da5-417e-b1f1-5a76c2486cbc"
      },
      "source": [
        "print(\"Accuracy Score of knn\", score_knn)"
      ],
      "id": "9g0UnY5r8k6D",
      "execution_count": null,
      "outputs": [
        {
          "output_type": "stream",
          "text": [
            "Accuracy Score of knn 0.7540983606557377\n"
          ],
          "name": "stdout"
        }
      ]
    },
    {
      "cell_type": "markdown",
      "metadata": {
        "id": "VHoIBcpW8k6D"
      },
      "source": [
        "####Confusion matrix"
      ],
      "id": "VHoIBcpW8k6D"
    },
    {
      "cell_type": "code",
      "metadata": {
        "colab": {
          "base_uri": "https://localhost:8080/"
        },
        "id": "wneTzGyn8k6D",
        "outputId": "2a314291-0d03-4dbb-a8e5-498883b1d0f0"
      },
      "source": [
        "print(\"Confusion matrix\\n\",confusion_matrix_knn)"
      ],
      "id": "wneTzGyn8k6D",
      "execution_count": null,
      "outputs": [
        {
          "output_type": "stream",
          "text": [
            "Confusion matrix\n",
            " [[23  7]\n",
            " [ 8 23]]\n"
          ],
          "name": "stdout"
        }
      ]
    },
    {
      "cell_type": "markdown",
      "metadata": {
        "id": "lynuZ0oD8k6E"
      },
      "source": [
        "####Classification Report"
      ],
      "id": "lynuZ0oD8k6E"
    },
    {
      "cell_type": "code",
      "metadata": {
        "colab": {
          "base_uri": "https://localhost:8080/"
        },
        "id": "a5JWX6Ra8k6E",
        "outputId": "f8f3e510-efb7-44d8-c2c0-43d04d4c0f5b"
      },
      "source": [
        "print(\"Classification report\\n\",classification_report_knn)"
      ],
      "id": "a5JWX6Ra8k6E",
      "execution_count": null,
      "outputs": [
        {
          "output_type": "stream",
          "text": [
            "Classification report\n",
            "               precision    recall  f1-score   support\n",
            "\n",
            "           0       0.74      0.77      0.75        30\n",
            "           1       0.77      0.74      0.75        31\n",
            "\n",
            "    accuracy                           0.75        61\n",
            "   macro avg       0.75      0.75      0.75        61\n",
            "weighted avg       0.75      0.75      0.75        61\n",
            "\n"
          ],
          "name": "stdout"
        }
      ]
    },
    {
      "cell_type": "markdown",
      "metadata": {
        "id": "tGROpPf5OgYx"
      },
      "source": [
        "###SVM"
      ],
      "id": "tGROpPf5OgYx"
    },
    {
      "cell_type": "code",
      "metadata": {
        "id": "N0GmjbOwUsqv"
      },
      "source": [
        "svm = SVC(probability=True)\n",
        "svm.fit(X_train, y_train)\n",
        "score_svm=svm.score(X_test, y_test)\n",
        "pred_svm=svm.predict(X_test)\n",
        "classification_report_svm=classification_report(y_test,pred_svm)\n",
        "confusion_matrix_svm=confusion_matrix(y_test,pred_svm)"
      ],
      "id": "N0GmjbOwUsqv",
      "execution_count": null,
      "outputs": []
    },
    {
      "cell_type": "markdown",
      "metadata": {
        "id": "KHog14-nUsq_"
      },
      "source": [
        "#### Accuracy Score"
      ],
      "id": "KHog14-nUsq_"
    },
    {
      "cell_type": "code",
      "metadata": {
        "colab": {
          "base_uri": "https://localhost:8080/"
        },
        "id": "4QgMFPBpUsq_",
        "outputId": "159581f8-7655-4d34-84c2-8f904bc3cab5"
      },
      "source": [
        "print(\"Accuracy Score of svm\", score_svm)"
      ],
      "id": "4QgMFPBpUsq_",
      "execution_count": null,
      "outputs": [
        {
          "output_type": "stream",
          "text": [
            "Accuracy Score of svm 0.7213114754098361\n"
          ],
          "name": "stdout"
        }
      ]
    },
    {
      "cell_type": "markdown",
      "metadata": {
        "id": "QJP2e_7JUsrA"
      },
      "source": [
        "#### Confusion matrix"
      ],
      "id": "QJP2e_7JUsrA"
    },
    {
      "cell_type": "code",
      "metadata": {
        "colab": {
          "base_uri": "https://localhost:8080/"
        },
        "id": "QR439zYeUsrA",
        "outputId": "9d1317d9-ecfb-4532-edb1-41e3617219e4"
      },
      "source": [
        "print(\"Confusion matrix\\n\",confusion_matrix_svm)"
      ],
      "id": "QR439zYeUsrA",
      "execution_count": null,
      "outputs": [
        {
          "output_type": "stream",
          "text": [
            "Confusion matrix\n",
            " [[21  9]\n",
            " [ 8 23]]\n"
          ],
          "name": "stdout"
        }
      ]
    },
    {
      "cell_type": "markdown",
      "metadata": {
        "id": "gUGeweVvUsrB"
      },
      "source": [
        "####Classification Report"
      ],
      "id": "gUGeweVvUsrB"
    },
    {
      "cell_type": "code",
      "metadata": {
        "colab": {
          "base_uri": "https://localhost:8080/"
        },
        "id": "YE6zTteaUsrB",
        "outputId": "d9bf63bf-6633-4245-c6e6-22a4082dfa31"
      },
      "source": [
        "print(\"Classification report\\n\",classification_report_svm)"
      ],
      "id": "YE6zTteaUsrB",
      "execution_count": null,
      "outputs": [
        {
          "output_type": "stream",
          "text": [
            "Classification report\n",
            "               precision    recall  f1-score   support\n",
            "\n",
            "           0       0.72      0.70      0.71        30\n",
            "           1       0.72      0.74      0.73        31\n",
            "\n",
            "    accuracy                           0.72        61\n",
            "   macro avg       0.72      0.72      0.72        61\n",
            "weighted avg       0.72      0.72      0.72        61\n",
            "\n"
          ],
          "name": "stdout"
        }
      ]
    },
    {
      "cell_type": "markdown",
      "metadata": {
        "id": "z5irvW3iOgOR"
      },
      "source": [
        "### Logistic Regression"
      ],
      "id": "z5irvW3iOgOR"
    },
    {
      "cell_type": "code",
      "metadata": {
        "id": "UFcV0o7vXZOU"
      },
      "source": [
        "lr = LogisticRegression(solver='lbfgs')\n",
        "lr.fit(X_train, y_train)\n",
        "score_lr=lr.score(X_test, y_test)\n",
        "pred_lr=lr.predict(X_test)\n",
        "classification_report_lr=classification_report(y_test,pred_lr)\n",
        "confusion_matrix_lr=confusion_matrix(y_test,pred_lr)"
      ],
      "id": "UFcV0o7vXZOU",
      "execution_count": null,
      "outputs": []
    },
    {
      "cell_type": "markdown",
      "metadata": {
        "id": "QCFWCrpIXZOk"
      },
      "source": [
        "#### Accuracy Score"
      ],
      "id": "QCFWCrpIXZOk"
    },
    {
      "cell_type": "code",
      "metadata": {
        "colab": {
          "base_uri": "https://localhost:8080/"
        },
        "id": "Yxf9Ra6sXZOl",
        "outputId": "0d713b96-3094-4e8c-cf59-a48c15e15e0a"
      },
      "source": [
        "print(\"Accuracy Score of lr\", score_lr)"
      ],
      "id": "Yxf9Ra6sXZOl",
      "execution_count": null,
      "outputs": [
        {
          "output_type": "stream",
          "text": [
            "Accuracy Score of lr 0.7540983606557377\n"
          ],
          "name": "stdout"
        }
      ]
    },
    {
      "cell_type": "markdown",
      "metadata": {
        "id": "MvCBsWXJXZOm"
      },
      "source": [
        "#### Confusion matrix"
      ],
      "id": "MvCBsWXJXZOm"
    },
    {
      "cell_type": "code",
      "metadata": {
        "colab": {
          "base_uri": "https://localhost:8080/"
        },
        "id": "AUheJebUXZOm",
        "outputId": "a454841a-60ac-45da-9860-7768548da99e"
      },
      "source": [
        "print(\"Confusion matrix\\n\",confusion_matrix_lr)"
      ],
      "id": "AUheJebUXZOm",
      "execution_count": null,
      "outputs": [
        {
          "output_type": "stream",
          "text": [
            "Confusion matrix\n",
            " [[20 10]\n",
            " [ 5 26]]\n"
          ],
          "name": "stdout"
        }
      ]
    },
    {
      "cell_type": "markdown",
      "metadata": {
        "id": "_V9xMrCgXZOn"
      },
      "source": [
        "####Classification Report"
      ],
      "id": "_V9xMrCgXZOn"
    },
    {
      "cell_type": "code",
      "metadata": {
        "colab": {
          "base_uri": "https://localhost:8080/"
        },
        "id": "XR2yDG3iXZOn",
        "outputId": "5586a2c4-4c93-4801-a966-4a7f1b9d693a"
      },
      "source": [
        "print(\"Classification report\\n\",classification_report_lr)"
      ],
      "id": "XR2yDG3iXZOn",
      "execution_count": null,
      "outputs": [
        {
          "output_type": "stream",
          "text": [
            "Classification report\n",
            "               precision    recall  f1-score   support\n",
            "\n",
            "           0       0.80      0.67      0.73        30\n",
            "           1       0.72      0.84      0.78        31\n",
            "\n",
            "    accuracy                           0.75        61\n",
            "   macro avg       0.76      0.75      0.75        61\n",
            "weighted avg       0.76      0.75      0.75        61\n",
            "\n"
          ],
          "name": "stdout"
        }
      ]
    },
    {
      "cell_type": "markdown",
      "metadata": {
        "id": "cMpaKvLeOeOh"
      },
      "source": [
        "### Decision Tree"
      ],
      "id": "cMpaKvLeOeOh"
    },
    {
      "cell_type": "code",
      "metadata": {
        "id": "uWjowD6sYTUt"
      },
      "source": [
        "dtree=tree.DecisionTreeClassifier()\n",
        "dtree=dtree.fit(X_train,y_train)\n",
        "score_dtree= dtree.score(X_test,y_test)\n",
        "pred_dtree=dtree.predict(X_test)\n",
        "classification_report_dtree=classification_report(y_test,pred_dtree)\n",
        "confusion_matrix_dtree=confusion_matrix(y_test,pred_dtree)"
      ],
      "id": "uWjowD6sYTUt",
      "execution_count": null,
      "outputs": []
    },
    {
      "cell_type": "markdown",
      "metadata": {
        "id": "cy82sjw4Y8hm"
      },
      "source": [
        "#### Accuracy Score"
      ],
      "id": "cy82sjw4Y8hm"
    },
    {
      "cell_type": "code",
      "metadata": {
        "colab": {
          "base_uri": "https://localhost:8080/"
        },
        "id": "3zntgk8CY8hm",
        "outputId": "1823200e-ea96-4dc6-eb2d-dfaecc04fc44"
      },
      "source": [
        "print(\"Accuracy Score of dtree\", score_dtree)"
      ],
      "id": "3zntgk8CY8hm",
      "execution_count": null,
      "outputs": [
        {
          "output_type": "stream",
          "text": [
            "Accuracy Score of dtree 0.6885245901639344\n"
          ],
          "name": "stdout"
        }
      ]
    },
    {
      "cell_type": "markdown",
      "metadata": {
        "id": "ttS0jkpQY8hn"
      },
      "source": [
        "#### Confusion matrix"
      ],
      "id": "ttS0jkpQY8hn"
    },
    {
      "cell_type": "code",
      "metadata": {
        "colab": {
          "base_uri": "https://localhost:8080/"
        },
        "id": "S2U7y6muY8hn",
        "outputId": "cb387f5b-a600-4c13-f68e-8f92dd58e196"
      },
      "source": [
        "print(\"Confusion matrix\\n\",confusion_matrix_dtree)"
      ],
      "id": "S2U7y6muY8hn",
      "execution_count": null,
      "outputs": [
        {
          "output_type": "stream",
          "text": [
            "Confusion matrix\n",
            " [[19 11]\n",
            " [ 8 23]]\n"
          ],
          "name": "stdout"
        }
      ]
    },
    {
      "cell_type": "markdown",
      "metadata": {
        "id": "OTBXR9uMY8hn"
      },
      "source": [
        "####Classification Report"
      ],
      "id": "OTBXR9uMY8hn"
    },
    {
      "cell_type": "code",
      "metadata": {
        "colab": {
          "base_uri": "https://localhost:8080/"
        },
        "id": "WIDxV7qbY8ho",
        "outputId": "9328b330-5973-46fa-872d-67774793d149"
      },
      "source": [
        "print(\"Classification report\\n\",classification_report_dtree)"
      ],
      "id": "WIDxV7qbY8ho",
      "execution_count": null,
      "outputs": [
        {
          "output_type": "stream",
          "text": [
            "Classification report\n",
            "               precision    recall  f1-score   support\n",
            "\n",
            "           0       0.70      0.63      0.67        30\n",
            "           1       0.68      0.74      0.71        31\n",
            "\n",
            "    accuracy                           0.69        61\n",
            "   macro avg       0.69      0.69      0.69        61\n",
            "weighted avg       0.69      0.69      0.69        61\n",
            "\n"
          ],
          "name": "stdout"
        }
      ]
    },
    {
      "cell_type": "markdown",
      "metadata": {
        "id": "KjLnoBUmZSdO"
      },
      "source": [
        "###K Fold Cross Validation"
      ],
      "id": "KjLnoBUmZSdO"
    },
    {
      "cell_type": "code",
      "metadata": {
        "id": "Zde4Qzn8h5CL"
      },
      "source": [
        ""
      ],
      "id": "Zde4Qzn8h5CL",
      "execution_count": null,
      "outputs": []
    },
    {
      "cell_type": "code",
      "metadata": {
        "colab": {
          "base_uri": "https://localhost:8080/"
        },
        "id": "1dsFY-j9qEWM",
        "outputId": "5f9adef8-e946-4b60-a47d-161ee8b1af88"
      },
      "source": [
        "print('\\nAccuracy\\n')\n",
        "models(X_train,y_train,'accuracy',cv)\n",
        "print('\\nPrecision\\n')\n",
        "models(X_train,y_train,'precision',cv)\n",
        "print('\\nRecall\\n')\n",
        "models(X_train,y_train,'recall',cv)\n",
        "print('\\nF-measure\\n')\n",
        "models(X_train,y_train,'f1',cv)\n",
        "print('\\nROC\\n')\n",
        "models(X_train,y_train,'roc_auc',cv)\n"
      ],
      "id": "1dsFY-j9qEWM",
      "execution_count": null,
      "outputs": [
        {
          "output_type": "stream",
          "text": [
            "\n",
            "Accuracy\n",
            "\n",
            "accuracy   for  Zero R Model: 0.554 (0.016)\n",
            "accuracy  for KNN Model: 0.822 (0.043)\n",
            "accuracy  for SVM Model: 0.838 (0.055)\n",
            "accuracy  for Logistic Regression Model: 0.826 (0.059)\n",
            "accuracy  for Decision tree Model: 0.780 (0.075)\n",
            "\n",
            "Precision\n",
            "\n",
            "precision   for  Zero R Model: 0.554 (0.016)\n",
            "precision  for KNN Model: 0.836 (0.078)\n",
            "precision  for SVM Model: 0.831 (0.069)\n",
            "precision  for Logistic Regression Model: 0.816 (0.046)\n",
            "precision  for Decision tree Model: 0.783 (0.033)\n",
            "\n",
            "Recall\n",
            "\n",
            "recall   for  Zero R Model: 1.000 (0.000)\n",
            "recall  for KNN Model: 0.858 (0.063)\n",
            "recall  for SVM Model: 0.903 (0.083)\n",
            "recall  for Logistic Regression Model: 0.888 (0.103)\n",
            "recall  for Decision tree Model: 0.859 (0.082)\n",
            "\n",
            "F-measure\n",
            "\n",
            "f1   for  Zero R Model: 0.713 (0.013)\n",
            "f1  for KNN Model: 0.842 (0.036)\n",
            "f1  for SVM Model: 0.861 (0.046)\n",
            "f1  for Logistic Regression Model: 0.847 (0.058)\n",
            "f1  for Decision tree Model: 0.816 (0.057)\n",
            "\n",
            "ROC\n",
            "\n",
            "roc_auc   for  Zero R Model: 0.500 (0.000)\n",
            "roc_auc  for KNN Model: 0.892 (0.030)\n",
            "roc_auc  for SVM Model: 0.914 (0.050)\n",
            "roc_auc  for Logistic Regression Model: 0.912 (0.042)\n",
            "roc_auc  for Decision tree Model: 0.776 (0.072)\n"
          ],
          "name": "stdout"
        }
      ]
    },
    {
      "cell_type": "markdown",
      "metadata": {
        "id": "bkIXgWf7byA1"
      },
      "source": [
        "### ROC AUC Curve"
      ],
      "id": "bkIXgWf7byA1"
    },
    {
      "cell_type": "code",
      "metadata": {
        "colab": {
          "base_uri": "https://localhost:8080/",
          "height": 369
        },
        "id": "96sYXgibcE8t",
        "outputId": "90b638f9-ef65-4b0e-fc94-3c67d7392765"
      },
      "source": [
        "\n",
        "zr_probs=zeroR.predict_proba(X_test)\n",
        "zr_probs=zr_probs[:,1]\n",
        "zr_auc = roc_auc_score(y_test, zr_probs)\n",
        "\n",
        "print('zeroR: ROC AUC=%.3f' % (zr_auc))\n",
        "\n",
        "zr_fpr, zr_tpr, _ = roc_curve(y_test, zr_probs)\n",
        "plt.plot(zr_fpr, zr_tpr, marker='.', label='ZeroR')\n",
        "\n",
        "\n",
        "\n",
        "\n",
        "\n",
        "\n",
        "lr_probs=lr.predict_proba(X_test)\n",
        "lr_probs=lr_probs[:,1]\n",
        "lr_auc = roc_auc_score(y_test, lr_probs)\n",
        "\n",
        "print('Logistic Regression: ROC AUC=%.3f' % (lr_auc))\n",
        "\n",
        "lr_fpr, lr_tpr, _ = roc_curve(y_test, lr_probs)\n",
        "plt.plot(lr_fpr, lr_tpr, linestyle='--', label='Logistic Regression')\n",
        "\n",
        "\n",
        "\n",
        "\n",
        "\n",
        "\n",
        "dtree_probs=dtree.predict_proba(X_test)\n",
        "dtree_probs=dtree_probs[:,1]\n",
        "dtree_auc = roc_auc_score(y_test, dtree_probs)\n",
        "\n",
        "print('dtree: ROC AUC=%.3f' % (dtree_auc))\n",
        "\n",
        "dtree_fpr, dtree_tpr, _ =  roc_curve(y_test, lr_probs)\n",
        "\n",
        "plt.plot(dtree_fpr, dtree_tpr, marker='.', label='Decision tree')\n",
        "\n",
        "\n",
        "\n",
        "knn_probs=knn.predict_proba(X_test)\n",
        "knn_probs=knn_probs[:,1]\n",
        "knn_auc = roc_auc_score(y_test, knn_probs)\n",
        "\n",
        "print('knn: ROC AUC=%.3f' % (knn_auc))\n",
        "\n",
        "knn_fpr, knn_tpr, _ = roc_curve(y_test, knn_probs)\n",
        "plt.plot(knn_fpr, knn_tpr, linestyle='--', label='knn')\n",
        "\n",
        "\n",
        "\n",
        "\n",
        "\n",
        "\n",
        "svm_probs=svm.predict_proba(X_test)\n",
        "svm_probs=svm_probs[:,1]\n",
        "svm_auc = roc_auc_score(y_test, svm_probs)\n",
        "\n",
        "print('svm: ROC AUC=%.3f' % (svm_auc))\n",
        "\n",
        "svm_fpr, svm_tpr, _ = roc_curve(y_test, svm_probs)\n",
        "plt.plot(svm_fpr, svm_tpr, marker='.', label='svm')\n",
        "\n",
        "\n",
        "\n",
        "\n",
        "\n",
        "# axis labels\n",
        "plt.xlabel('False Positive Rate')\n",
        "plt.ylabel('True Positive Rate')\n",
        "# show the legend\n",
        "plt.legend()\n",
        "# show the plot\n",
        "plt.show()"
      ],
      "id": "96sYXgibcE8t",
      "execution_count": null,
      "outputs": [
        {
          "output_type": "stream",
          "text": [
            "zeroR: ROC AUC=0.500\n",
            "Logistic Regression: ROC AUC=0.848\n",
            "dtree: ROC AUC=0.688\n",
            "knn: ROC AUC=0.763\n",
            "svm: ROC AUC=0.832\n"
          ],
          "name": "stdout"
        },
        {
          "output_type": "display_data",
          "data": {
            "image/png": "[encoded data removed]",
            "text/plain": [
              "<Figure size 432x288 with 1 Axes>"
            ]
          },
          "metadata": {
            "tags": [],
            "needs_background": "light"
          }
        }
      ]
    }
  ]
}