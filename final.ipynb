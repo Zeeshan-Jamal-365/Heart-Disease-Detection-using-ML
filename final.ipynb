{
  "nbformat": 4,
  "nbformat_minor": 5,
  "metadata": {
    "colab": {
      "name": "final.ipynb",
      "provenance": [],
      "collapsed_sections": [],
      "toc_visible": true,
      "include_colab_link": true
    },
    "language_info": {
      "name": "python"
    },
    "kernelspec": {
      "name": "python3",
      "display_name": "Python 3"
    },
    "accelerator": "GPU"
  },
  "cells": [
    {
      "cell_type": "markdown",
      "metadata": {
        "id": "view-in-github",
        "colab_type": "text"
      },
      "source": [
        "<a href=\"https://colab.research.google.com/github/Zeeshan-jamal/cse445_final_assignment/blob/main/final.ipynb\" target=\"_parent\"><img src=\"https://colab.research.google.com/assets/colab-badge.svg\" alt=\"Open In Colab\"/></a>"
      ]
    },
    {
      "cell_type": "markdown",
      "metadata": {
        "id": "mjtyiBal8k10"
      },
      "source": [
        "# **Final Assignment on Heart Disease detection**"
      ],
      "id": "mjtyiBal8k10"
    },
    {
      "cell_type": "code",
      "metadata": {
        "colab": {
          "base_uri": "https://localhost:8080/"
        },
        "id": "k-vEkFOR3CPM",
        "outputId": "8963a045-6e89-4d8d-ef1f-27e6ffa4ce2d"
      },
      "source": [
        "from google.colab import drive\n",
        "drive.mount('/content/drive', force_remount=False)"
      ],
      "id": "k-vEkFOR3CPM",
      "execution_count": null,
      "outputs": [
        {
          "output_type": "stream",
          "text": [
            "Mounted at /content/drive\n"
          ],
          "name": "stdout"
        }
      ]
    },
    {
      "cell_type": "markdown",
      "metadata": {
        "id": "fKdMoBh78_AL"
      },
      "source": [
        "#### Import of all the required libraries"
      ],
      "id": "fKdMoBh78_AL"
    },
    {
      "cell_type": "code",
      "metadata": {
        "id": "TgH0RsYo3d-8"
      },
      "source": [
        "import sklearn\n",
        "from sklearn import metrics\n",
        "from sklearn.datasets import make_classification\n",
        "from sklearn.metrics import roc_curve, auc, confusion_matrix, classification_report ,accuracy_score\n",
        "from sklearn.linear_model import LogisticRegression\n",
        "from sklearn.svm import SVC\n",
        "from sklearn.ensemble import RandomForestClassifier\n",
        "from sklearn.neighbors import KNeighborsClassifier\n",
        "from sklearn import tree\n",
        "from sklearn.tree import DecisionTreeClassifier\n",
        "from sklearn.model_selection import train_test_split\n",
        "from sklearn.model_selection import cross_val_score\n",
        "from sklearn.metrics import roc_auc_score\n",
        "from sklearn.metrics import accuracy_score\n",
        "from sklearn.metrics import confusion_matrix\n",
        "from sklearn.metrics import classification_report\n",
        "from matplotlib.pyplot import figure\n",
        "import matplotlib as mp\n",
        "import matplotlib.pyplot as plt\n",
        "import seaborn as sns\n",
        "import numpy as np\n",
        "import pandas as pd\n",
        "import re\n",
        "%matplotlib inline\n",
        "from sklearn.metrics import r2_score, explained_variance_score, mean_absolute_error, mean_squared_error\n",
        "from math import sqrt\n",
        "\n",
        "from warnings import simplefilter\n",
        "simplefilter(action='ignore', category=FutureWarning)\n"
      ],
      "id": "TgH0RsYo3d-8",
      "execution_count": null,
      "outputs": []
    },
    {
      "cell_type": "markdown",
      "metadata": {
        "id": "kKyRPn_76vzs"
      },
      "source": [
        "#### a)  Read the dataset using panda's dataframe.\n"
      ],
      "id": "kKyRPn_76vzs"
    },
    {
      "cell_type": "code",
      "metadata": {
        "id": "mSGuaPDB3eBy"
      },
      "source": [
        "# df = pd.read_csv('heart.csv')\n",
        "df = pd.read_csv('/content/drive/MyDrive/11th semester/cse445/final assignment/heart.csv')"
      ],
      "id": "mSGuaPDB3eBy",
      "execution_count": null,
      "outputs": []
    },
    {
      "cell_type": "markdown",
      "metadata": {
        "id": "7Ndvc95I_wmc"
      },
      "source": [
        "#### b) Find out the number of instances and the number of features (including the target class) in the dataset."
      ],
      "id": "7Ndvc95I_wmc"
    },
    {
      "cell_type": "code",
      "metadata": {
        "colab": {
          "base_uri": "https://localhost:8080/"
        },
        "id": "cSJWOhP53eEr",
        "outputId": "7afe2ad8-8055-4616-d77e-76396139e4cd"
      },
      "source": [
        "df.shape"
      ],
      "id": "cSJWOhP53eEr",
      "execution_count": null,
      "outputs": [
        {
          "output_type": "execute_result",
          "data": {
            "text/plain": [
              "(303, 14)"
            ]
          },
          "metadata": {
            "tags": []
          },
          "execution_count": 4
        }
      ]
    },
    {
      "cell_type": "markdown",
      "metadata": {
        "id": "P-tza1Y2ADBk"
      },
      "source": [
        "#### c) Show the first five rows of the *dataset*"
      ],
      "id": "P-tza1Y2ADBk"
    },
    {
      "cell_type": "code",
      "metadata": {
        "colab": {
          "base_uri": "https://localhost:8080/",
          "height": 191
        },
        "id": "MSkq8okjA8XL",
        "outputId": "af7381c9-d7fd-450a-87b2-f70894728bbd"
      },
      "source": [
        "df.head()"
      ],
      "id": "MSkq8okjA8XL",
      "execution_count": null,
      "outputs": [
        {
          "output_type": "execute_result",
          "data": {
            "text/html": [
              "<div>\n",
              "<style scoped>\n",
              "    .dataframe tbody tr th:only-of-type {\n",
              "        vertical-align: middle;\n",
              "    }\n",
              "\n",
              "    .dataframe tbody tr th {\n",
              "        vertical-align: top;\n",
              "    }\n",
              "\n",
              "    .dataframe thead th {\n",
              "        text-align: right;\n",
              "    }\n",
              "</style>\n",
              "<table border=\"1\" class=\"dataframe\">\n",
              "  <thead>\n",
              "    <tr style=\"text-align: right;\">\n",
              "      <th></th>\n",
              "      <th>age</th>\n",
              "      <th>sex</th>\n",
              "      <th>cp</th>\n",
              "      <th>trestbps</th>\n",
              "      <th>chol</th>\n",
              "      <th>fbs</th>\n",
              "      <th>restecg</th>\n",
              "      <th>thalach</th>\n",
              "      <th>exang</th>\n",
              "      <th>oldpeak</th>\n",
              "      <th>slope</th>\n",
              "      <th>ca</th>\n",
              "      <th>thal</th>\n",
              "      <th>target</th>\n",
              "    </tr>\n",
              "  </thead>\n",
              "  <tbody>\n",
              "    <tr>\n",
              "      <th>0</th>\n",
              "      <td>63</td>\n",
              "      <td>1</td>\n",
              "      <td>3</td>\n",
              "      <td>145</td>\n",
              "      <td>233</td>\n",
              "      <td>1</td>\n",
              "      <td>0</td>\n",
              "      <td>150</td>\n",
              "      <td>0</td>\n",
              "      <td>2.3</td>\n",
              "      <td>0</td>\n",
              "      <td>0</td>\n",
              "      <td>1</td>\n",
              "      <td>1</td>\n",
              "    </tr>\n",
              "    <tr>\n",
              "      <th>1</th>\n",
              "      <td>37</td>\n",
              "      <td>1</td>\n",
              "      <td>2</td>\n",
              "      <td>130</td>\n",
              "      <td>250</td>\n",
              "      <td>0</td>\n",
              "      <td>1</td>\n",
              "      <td>187</td>\n",
              "      <td>0</td>\n",
              "      <td>3.5</td>\n",
              "      <td>0</td>\n",
              "      <td>0</td>\n",
              "      <td>2</td>\n",
              "      <td>1</td>\n",
              "    </tr>\n",
              "    <tr>\n",
              "      <th>2</th>\n",
              "      <td>41</td>\n",
              "      <td>0</td>\n",
              "      <td>1</td>\n",
              "      <td>130</td>\n",
              "      <td>204</td>\n",
              "      <td>0</td>\n",
              "      <td>0</td>\n",
              "      <td>172</td>\n",
              "      <td>0</td>\n",
              "      <td>1.4</td>\n",
              "      <td>2</td>\n",
              "      <td>0</td>\n",
              "      <td>2</td>\n",
              "      <td>1</td>\n",
              "    </tr>\n",
              "    <tr>\n",
              "      <th>3</th>\n",
              "      <td>56</td>\n",
              "      <td>1</td>\n",
              "      <td>1</td>\n",
              "      <td>120</td>\n",
              "      <td>236</td>\n",
              "      <td>0</td>\n",
              "      <td>1</td>\n",
              "      <td>178</td>\n",
              "      <td>0</td>\n",
              "      <td>0.8</td>\n",
              "      <td>2</td>\n",
              "      <td>0</td>\n",
              "      <td>2</td>\n",
              "      <td>1</td>\n",
              "    </tr>\n",
              "    <tr>\n",
              "      <th>4</th>\n",
              "      <td>57</td>\n",
              "      <td>0</td>\n",
              "      <td>0</td>\n",
              "      <td>120</td>\n",
              "      <td>354</td>\n",
              "      <td>0</td>\n",
              "      <td>1</td>\n",
              "      <td>163</td>\n",
              "      <td>1</td>\n",
              "      <td>0.6</td>\n",
              "      <td>2</td>\n",
              "      <td>0</td>\n",
              "      <td>2</td>\n",
              "      <td>1</td>\n",
              "    </tr>\n",
              "  </tbody>\n",
              "</table>\n",
              "</div>"
            ],
            "text/plain": [
              "   age  sex  cp  trestbps  chol  fbs  ...  exang  oldpeak  slope  ca  thal  target\n",
              "0   63    1   3       145   233    1  ...      0      2.3      0   0     1       1\n",
              "1   37    1   2       130   250    0  ...      0      3.5      0   0     2       1\n",
              "2   41    0   1       130   204    0  ...      0      1.4      2   0     2       1\n",
              "3   56    1   1       120   236    0  ...      0      0.8      2   0     2       1\n",
              "4   57    0   0       120   354    0  ...      1      0.6      2   0     2       1\n",
              "\n",
              "[5 rows x 14 columns]"
            ]
          },
          "metadata": {
            "tags": []
          },
          "execution_count": 5
        }
      ]
    },
    {
      "cell_type": "markdown",
      "metadata": {
        "id": "nw3BykdfAINO"
      },
      "source": [
        "#### d) Print the number of missing entries (i.e. the number of null values) per feature. If there exists any missing entries, replace the value with that particular feature's mean"
      ],
      "id": "nw3BykdfAINO"
    },
    {
      "cell_type": "code",
      "metadata": {
        "id": "rlYpztZFA8y7",
        "colab": {
          "base_uri": "https://localhost:8080/"
        },
        "outputId": "348b1539-ee1a-4f51-dec5-2172ae4c5935"
      },
      "source": [
        "df.isnull().sum()"
      ],
      "id": "rlYpztZFA8y7",
      "execution_count": null,
      "outputs": [
        {
          "output_type": "execute_result",
          "data": {
            "text/plain": [
              "age         0\n",
              "sex         0\n",
              "cp          0\n",
              "trestbps    0\n",
              "chol        0\n",
              "fbs         0\n",
              "restecg     0\n",
              "thalach     0\n",
              "exang       0\n",
              "oldpeak     0\n",
              "slope       0\n",
              "ca          0\n",
              "thal        0\n",
              "target      0\n",
              "dtype: int64"
            ]
          },
          "metadata": {
            "tags": []
          },
          "execution_count": 6
        }
      ]
    },
    {
      "cell_type": "code",
      "metadata": {
        "colab": {
          "base_uri": "https://localhost:8080/"
        },
        "id": "sbhEdXFXDble",
        "outputId": "02308b99-96ca-49a2-e7f7-c819a0536bca"
      },
      "source": [
        "df.isin(['\t?']).sum() #data which includes the '?' sign"
      ],
      "id": "sbhEdXFXDble",
      "execution_count": null,
      "outputs": [
        {
          "output_type": "execute_result",
          "data": {
            "text/plain": [
              "age         0\n",
              "sex         0\n",
              "cp          0\n",
              "trestbps    0\n",
              "chol        0\n",
              "fbs         0\n",
              "restecg     0\n",
              "thalach     0\n",
              "exang       0\n",
              "oldpeak     0\n",
              "slope       0\n",
              "ca          0\n",
              "thal        0\n",
              "target      0\n",
              "dtype: int64"
            ]
          },
          "metadata": {
            "tags": []
          },
          "execution_count": 7
        }
      ]
    },
    {
      "cell_type": "code",
      "metadata": {
        "colab": {
          "base_uri": "https://localhost:8080/"
        },
        "id": "g0iYJJTyHvGF",
        "outputId": "374b25a5-b487-48c4-934a-5c88cb5309e0"
      },
      "source": [
        "df.isin([' ']).sum()"
      ],
      "id": "g0iYJJTyHvGF",
      "execution_count": null,
      "outputs": [
        {
          "output_type": "execute_result",
          "data": {
            "text/plain": [
              "age         0\n",
              "sex         0\n",
              "cp          0\n",
              "trestbps    0\n",
              "chol        0\n",
              "fbs         0\n",
              "restecg     0\n",
              "thalach     0\n",
              "exang       0\n",
              "oldpeak     0\n",
              "slope       0\n",
              "ca          0\n",
              "thal        0\n",
              "target      0\n",
              "dtype: int64"
            ]
          },
          "metadata": {
            "tags": []
          },
          "execution_count": 8
        }
      ]
    },
    {
      "cell_type": "markdown",
      "metadata": {
        "id": "Au9iY_XQAL2j"
      },
      "source": [
        "#### e) Print the number of unique values per feature. If the number of unique values for any feature is less than 10, print those unique feature values."
      ],
      "id": "Au9iY_XQAL2j"
    },
    {
      "cell_type": "code",
      "metadata": {
        "id": "0ZeUbwzqA9ZL",
        "colab": {
          "base_uri": "https://localhost:8080/"
        },
        "outputId": "b36cf90c-cb42-4f02-f239-7065d0f99550"
      },
      "source": [
        "for column in df:\n",
        "  unique_vals=np.unique(df[column])\n",
        "  n_unique_vals=len(unique_vals)\n",
        "  if(n_unique_vals<10):\n",
        "    print('The number of unique values for feature {}: {} --{}'.format(column, n_unique_vals,unique_vals))\n",
        "  else:\n",
        "    print('The number of unique values for feature {}: {}'.format(column, n_unique_vals))\n"
      ],
      "id": "0ZeUbwzqA9ZL",
      "execution_count": null,
      "outputs": [
        {
          "output_type": "stream",
          "text": [
            "The number of unique values for feature age: 41\n",
            "The number of unique values for feature sex: 2 --[0 1]\n",
            "The number of unique values for feature cp: 4 --[0 1 2 3]\n",
            "The number of unique values for feature trestbps: 49\n",
            "The number of unique values for feature chol: 152\n",
            "The number of unique values for feature fbs: 2 --[0 1]\n",
            "The number of unique values for feature restecg: 3 --[0 1 2]\n",
            "The number of unique values for feature thalach: 91\n",
            "The number of unique values for feature exang: 2 --[0 1]\n",
            "The number of unique values for feature oldpeak: 40\n",
            "The number of unique values for feature slope: 3 --[0 1 2]\n",
            "The number of unique values for feature ca: 5 --[0 1 2 3 4]\n",
            "The number of unique values for feature thal: 4 --[0 1 2 3]\n",
            "The number of unique values for feature target: 2 --[0 1]\n"
          ],
          "name": "stdout"
        }
      ]
    },
    {
      "cell_type": "markdown",
      "metadata": {
        "id": "RGPSnkEUAZOD"
      },
      "source": [
        "#### f) Generate a boxplot that shows the gender-wise age distribution. Show the boxplot for target = 0 as well as target = 1. The following is the boxplot you will get"
      ],
      "id": "RGPSnkEUAZOD"
    },
    {
      "cell_type": "code",
      "metadata": {
        "id": "4AbrcHCOA-Oj",
        "colab": {
          "base_uri": "https://localhost:8080/",
          "height": 278
        },
        "outputId": "42dbdb58-1971-4526-cb70-6de26cb86097"
      },
      "source": [
        "pal=['grey','skyblue']\n",
        "g=sns.boxplot(x='sex',y='age',data=df,palette=pal)"
      ],
      "id": "4AbrcHCOA-Oj",
      "execution_count": null,
      "outputs": [
        {
          "output_type": "display_data",
          "data": {
            "image/png": "[encoded data removed]",
            "text/plain": [
              "<Figure size 432x288 with 1 Axes>"
            ]
          },
          "metadata": {
            "tags": [],
            "needs_background": "light"
          }
        }
      ]
    },
    {
      "cell_type": "markdown",
      "metadata": {
        "id": "VFxDPPTYAZ2t"
      },
      "source": [
        "#### g) Now, generate a boxplot that shows the chestpain-wise age distribution. Show\n",
        "the boxplot for target = 0 as well as target = 1"
      ],
      "id": "VFxDPPTYAZ2t"
    },
    {
      "cell_type": "code",
      "metadata": {
        "id": "Hi1prgf2A_Xr",
        "colab": {
          "base_uri": "https://localhost:8080/",
          "height": 278
        },
        "outputId": "70210297-c729-4091-b61c-61fd2820d502"
      },
      "source": [
        "pal=['red','white']\n",
        "g=sns.boxplot(x='cp',y='age',data=df,palette=pal)"
      ],
      "id": "Hi1prgf2A_Xr",
      "execution_count": null,
      "outputs": [
        {
          "output_type": "display_data",
          "data": {
            "image/png": "[encoded data removed]",
            "text/plain": [
              "<Figure size 432x288 with 1 Axes>"
            ]
          },
          "metadata": {
            "tags": [],
            "needs_background": "light"
          }
        }
      ]
    },
    {
      "cell_type": "markdown",
      "metadata": {
        "id": "WhrglWz6AaIc"
      },
      "source": [
        "#### h) Generate lmplot to show how cholestoral varies with age. Draw separate lmplots for different gender. 5 marks\n"
      ],
      "id": "WhrglWz6AaIc"
    },
    {
      "cell_type": "code",
      "metadata": {
        "id": "ooNfQJT_BAPl"
      },
      "source": [
        ""
      ],
      "id": "ooNfQJT_BAPl",
      "execution_count": null,
      "outputs": []
    },
    {
      "cell_type": "markdown",
      "metadata": {
        "id": "iBKYLSfnAaAE"
      },
      "source": [
        "#### i) Generate a heatmap showing correlation between all features 3 marks"
      ],
      "id": "iBKYLSfnAaAE"
    },
    {
      "cell_type": "code",
      "metadata": {
        "id": "vkPOHPnfBBEd"
      },
      "source": [
        ""
      ],
      "id": "vkPOHPnfBBEd",
      "execution_count": null,
      "outputs": []
    },
    {
      "cell_type": "markdown",
      "metadata": {
        "id": "qgQ0tzYhAaM2"
      },
      "source": [
        "#### j) Scale all the features between 0 and 1 5 marks\n"
      ],
      "id": "qgQ0tzYhAaM2"
    },
    {
      "cell_type": "code",
      "metadata": {
        "id": "06-UJnlHBBrF"
      },
      "source": [
        ""
      ],
      "id": "06-UJnlHBBrF",
      "execution_count": null,
      "outputs": []
    },
    {
      "cell_type": "markdown",
      "metadata": {
        "id": "-XIWRDwFAaRE"
      },
      "source": [
        "#### k) You are going to predict the “target”. Use 10 fold cross-validation to predict the target. Use the classifiers ZeroR, KNN, SVM, logistic regression and Decision Tree and for each of them, report the accuracy, precision, recall, roc area and f1 score along with the standard deviation of each of them"
      ],
      "id": "-XIWRDwFAaRE"
    },
    {
      "cell_type": "code",
      "metadata": {
        "id": "UQXgmY3WBClF"
      },
      "source": [
        ""
      ],
      "id": "UQXgmY3WBClF",
      "execution_count": null,
      "outputs": []
    }
  ]
}